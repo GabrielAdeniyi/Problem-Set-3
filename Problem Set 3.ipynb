{
 "cells": [
  {
   "cell_type": "code",
   "execution_count": 1,
   "id": "87d64c65",
   "metadata": {},
   "outputs": [],
   "source": [
    "# Question 1\n",
    "import numpy as np"
   ]
  },
  {
   "cell_type": "code",
   "execution_count": 2,
   "id": "dfb5403b",
   "metadata": {},
   "outputs": [
    {
     "ename": "TypeError",
     "evalue": "Expected file path name or file-like object, got <class 'bytes'> type",
     "output_type": "error",
     "traceback": [
      "\u001b[1;31m---------------------------------------------------------------------------\u001b[0m",
      "\u001b[1;31mTypeError\u001b[0m                                 Traceback (most recent call last)",
      "\u001b[1;32m~\\AppData\\Local\\Temp\\ipykernel_49752\\19134828.py\u001b[0m in \u001b[0;36m<module>\u001b[1;34m\u001b[0m\n\u001b[0;32m      4\u001b[0m \u001b[0murl\u001b[0m \u001b[1;33m=\u001b[0m \u001b[1;34m'https://raw.githubusercontent.com/justmarkham/DAT8/master/data/u.user'\u001b[0m\u001b[1;33m\u001b[0m\u001b[1;33m\u001b[0m\u001b[0m\n\u001b[0;32m      5\u001b[0m \u001b[0mresponse\u001b[0m \u001b[1;33m=\u001b[0m \u001b[0mrequests\u001b[0m\u001b[1;33m.\u001b[0m\u001b[0mget\u001b[0m\u001b[1;33m(\u001b[0m\u001b[0murl\u001b[0m\u001b[1;33m)\u001b[0m\u001b[1;33m\u001b[0m\u001b[1;33m\u001b[0m\u001b[0m\n\u001b[1;32m----> 6\u001b[1;33m \u001b[0mdf\u001b[0m \u001b[1;33m=\u001b[0m \u001b[0mpd\u001b[0m\u001b[1;33m.\u001b[0m\u001b[0mread_csv\u001b[0m\u001b[1;33m(\u001b[0m\u001b[0mresponse\u001b[0m\u001b[1;33m.\u001b[0m\u001b[0mcontent\u001b[0m\u001b[1;33m)\u001b[0m\u001b[1;33m\u001b[0m\u001b[1;33m\u001b[0m\u001b[0m\n\u001b[0m",
      "\u001b[1;32m~\\anaconda3\\lib\\site-packages\\pandas\\util\\_decorators.py\u001b[0m in \u001b[0;36mwrapper\u001b[1;34m(*args, **kwargs)\u001b[0m\n\u001b[0;32m    309\u001b[0m                     \u001b[0mstacklevel\u001b[0m\u001b[1;33m=\u001b[0m\u001b[0mstacklevel\u001b[0m\u001b[1;33m,\u001b[0m\u001b[1;33m\u001b[0m\u001b[1;33m\u001b[0m\u001b[0m\n\u001b[0;32m    310\u001b[0m                 )\n\u001b[1;32m--> 311\u001b[1;33m             \u001b[1;32mreturn\u001b[0m \u001b[0mfunc\u001b[0m\u001b[1;33m(\u001b[0m\u001b[1;33m*\u001b[0m\u001b[0margs\u001b[0m\u001b[1;33m,\u001b[0m \u001b[1;33m**\u001b[0m\u001b[0mkwargs\u001b[0m\u001b[1;33m)\u001b[0m\u001b[1;33m\u001b[0m\u001b[1;33m\u001b[0m\u001b[0m\n\u001b[0m\u001b[0;32m    312\u001b[0m \u001b[1;33m\u001b[0m\u001b[0m\n\u001b[0;32m    313\u001b[0m         \u001b[1;32mreturn\u001b[0m \u001b[0mwrapper\u001b[0m\u001b[1;33m\u001b[0m\u001b[1;33m\u001b[0m\u001b[0m\n",
      "\u001b[1;32m~\\anaconda3\\lib\\site-packages\\pandas\\io\\parsers\\readers.py\u001b[0m in \u001b[0;36mread_csv\u001b[1;34m(filepath_or_buffer, sep, delimiter, header, names, index_col, usecols, squeeze, prefix, mangle_dupe_cols, dtype, engine, converters, true_values, false_values, skipinitialspace, skiprows, skipfooter, nrows, na_values, keep_default_na, na_filter, verbose, skip_blank_lines, parse_dates, infer_datetime_format, keep_date_col, date_parser, dayfirst, cache_dates, iterator, chunksize, compression, thousands, decimal, lineterminator, quotechar, quoting, doublequote, escapechar, comment, encoding, encoding_errors, dialect, error_bad_lines, warn_bad_lines, on_bad_lines, delim_whitespace, low_memory, memory_map, float_precision, storage_options)\u001b[0m\n\u001b[0;32m    676\u001b[0m     \u001b[0mkwds\u001b[0m\u001b[1;33m.\u001b[0m\u001b[0mupdate\u001b[0m\u001b[1;33m(\u001b[0m\u001b[0mkwds_defaults\u001b[0m\u001b[1;33m)\u001b[0m\u001b[1;33m\u001b[0m\u001b[1;33m\u001b[0m\u001b[0m\n\u001b[0;32m    677\u001b[0m \u001b[1;33m\u001b[0m\u001b[0m\n\u001b[1;32m--> 678\u001b[1;33m     \u001b[1;32mreturn\u001b[0m \u001b[0m_read\u001b[0m\u001b[1;33m(\u001b[0m\u001b[0mfilepath_or_buffer\u001b[0m\u001b[1;33m,\u001b[0m \u001b[0mkwds\u001b[0m\u001b[1;33m)\u001b[0m\u001b[1;33m\u001b[0m\u001b[1;33m\u001b[0m\u001b[0m\n\u001b[0m\u001b[0;32m    679\u001b[0m \u001b[1;33m\u001b[0m\u001b[0m\n\u001b[0;32m    680\u001b[0m \u001b[1;33m\u001b[0m\u001b[0m\n",
      "\u001b[1;32m~\\anaconda3\\lib\\site-packages\\pandas\\io\\parsers\\readers.py\u001b[0m in \u001b[0;36m_read\u001b[1;34m(filepath_or_buffer, kwds)\u001b[0m\n\u001b[0;32m    573\u001b[0m \u001b[1;33m\u001b[0m\u001b[0m\n\u001b[0;32m    574\u001b[0m     \u001b[1;31m# Create the parser.\u001b[0m\u001b[1;33m\u001b[0m\u001b[1;33m\u001b[0m\u001b[0m\n\u001b[1;32m--> 575\u001b[1;33m     \u001b[0mparser\u001b[0m \u001b[1;33m=\u001b[0m \u001b[0mTextFileReader\u001b[0m\u001b[1;33m(\u001b[0m\u001b[0mfilepath_or_buffer\u001b[0m\u001b[1;33m,\u001b[0m \u001b[1;33m**\u001b[0m\u001b[0mkwds\u001b[0m\u001b[1;33m)\u001b[0m\u001b[1;33m\u001b[0m\u001b[1;33m\u001b[0m\u001b[0m\n\u001b[0m\u001b[0;32m    576\u001b[0m \u001b[1;33m\u001b[0m\u001b[0m\n\u001b[0;32m    577\u001b[0m     \u001b[1;32mif\u001b[0m \u001b[0mchunksize\u001b[0m \u001b[1;32mor\u001b[0m \u001b[0miterator\u001b[0m\u001b[1;33m:\u001b[0m\u001b[1;33m\u001b[0m\u001b[1;33m\u001b[0m\u001b[0m\n",
      "\u001b[1;32m~\\anaconda3\\lib\\site-packages\\pandas\\io\\parsers\\readers.py\u001b[0m in \u001b[0;36m__init__\u001b[1;34m(self, f, engine, **kwds)\u001b[0m\n\u001b[0;32m    930\u001b[0m \u001b[1;33m\u001b[0m\u001b[0m\n\u001b[0;32m    931\u001b[0m         \u001b[0mself\u001b[0m\u001b[1;33m.\u001b[0m\u001b[0mhandles\u001b[0m\u001b[1;33m:\u001b[0m \u001b[0mIOHandles\u001b[0m \u001b[1;33m|\u001b[0m \u001b[1;32mNone\u001b[0m \u001b[1;33m=\u001b[0m \u001b[1;32mNone\u001b[0m\u001b[1;33m\u001b[0m\u001b[1;33m\u001b[0m\u001b[0m\n\u001b[1;32m--> 932\u001b[1;33m         \u001b[0mself\u001b[0m\u001b[1;33m.\u001b[0m\u001b[0m_engine\u001b[0m \u001b[1;33m=\u001b[0m \u001b[0mself\u001b[0m\u001b[1;33m.\u001b[0m\u001b[0m_make_engine\u001b[0m\u001b[1;33m(\u001b[0m\u001b[0mf\u001b[0m\u001b[1;33m,\u001b[0m \u001b[0mself\u001b[0m\u001b[1;33m.\u001b[0m\u001b[0mengine\u001b[0m\u001b[1;33m)\u001b[0m\u001b[1;33m\u001b[0m\u001b[1;33m\u001b[0m\u001b[0m\n\u001b[0m\u001b[0;32m    933\u001b[0m \u001b[1;33m\u001b[0m\u001b[0m\n\u001b[0;32m    934\u001b[0m     \u001b[1;32mdef\u001b[0m \u001b[0mclose\u001b[0m\u001b[1;33m(\u001b[0m\u001b[0mself\u001b[0m\u001b[1;33m)\u001b[0m\u001b[1;33m:\u001b[0m\u001b[1;33m\u001b[0m\u001b[1;33m\u001b[0m\u001b[0m\n",
      "\u001b[1;32m~\\anaconda3\\lib\\site-packages\\pandas\\io\\parsers\\readers.py\u001b[0m in \u001b[0;36m_make_engine\u001b[1;34m(self, f, engine)\u001b[0m\n\u001b[0;32m   1214\u001b[0m             \u001b[1;31m# \"Union[str, PathLike[str], ReadCsvBuffer[bytes], ReadCsvBuffer[str]]\"\u001b[0m\u001b[1;33m\u001b[0m\u001b[1;33m\u001b[0m\u001b[0m\n\u001b[0;32m   1215\u001b[0m             \u001b[1;31m# , \"str\", \"bool\", \"Any\", \"Any\", \"Any\", \"Any\", \"Any\"\u001b[0m\u001b[1;33m\u001b[0m\u001b[1;33m\u001b[0m\u001b[0m\n\u001b[1;32m-> 1216\u001b[1;33m             self.handles = get_handle(  # type: ignore[call-overload]\n\u001b[0m\u001b[0;32m   1217\u001b[0m                 \u001b[0mf\u001b[0m\u001b[1;33m,\u001b[0m\u001b[1;33m\u001b[0m\u001b[1;33m\u001b[0m\u001b[0m\n\u001b[0;32m   1218\u001b[0m                 \u001b[0mmode\u001b[0m\u001b[1;33m,\u001b[0m\u001b[1;33m\u001b[0m\u001b[1;33m\u001b[0m\u001b[0m\n",
      "\u001b[1;32m~\\anaconda3\\lib\\site-packages\\pandas\\io\\common.py\u001b[0m in \u001b[0;36mget_handle\u001b[1;34m(path_or_buf, mode, encoding, compression, memory_map, is_text, errors, storage_options)\u001b[0m\n\u001b[0;32m    821\u001b[0m \u001b[1;33m\u001b[0m\u001b[0m\n\u001b[0;32m    822\u001b[0m     \u001b[1;32mif\u001b[0m \u001b[1;34m\"r\"\u001b[0m \u001b[1;32min\u001b[0m \u001b[0mioargs\u001b[0m\u001b[1;33m.\u001b[0m\u001b[0mmode\u001b[0m \u001b[1;32mand\u001b[0m \u001b[1;32mnot\u001b[0m \u001b[0mhasattr\u001b[0m\u001b[1;33m(\u001b[0m\u001b[0mhandle\u001b[0m\u001b[1;33m,\u001b[0m \u001b[1;34m\"read\"\u001b[0m\u001b[1;33m)\u001b[0m\u001b[1;33m:\u001b[0m\u001b[1;33m\u001b[0m\u001b[1;33m\u001b[0m\u001b[0m\n\u001b[1;32m--> 823\u001b[1;33m         raise TypeError(\n\u001b[0m\u001b[0;32m    824\u001b[0m             \u001b[1;34m\"Expected file path name or file-like object, \"\u001b[0m\u001b[1;33m\u001b[0m\u001b[1;33m\u001b[0m\u001b[0m\n\u001b[0;32m    825\u001b[0m             \u001b[1;34mf\"got {type(ioargs.filepath_or_buffer)} type\"\u001b[0m\u001b[1;33m\u001b[0m\u001b[1;33m\u001b[0m\u001b[0m\n",
      "\u001b[1;31mTypeError\u001b[0m: Expected file path name or file-like object, got <class 'bytes'> type"
     ]
    }
   ],
   "source": [
    "import requests\n",
    "import pandas as pd\n",
    "\n",
    "url = 'https://raw.githubusercontent.com/justmarkham/DAT8/master/data/u.user'\n",
    "response = requests.get(url)\n",
    "df = pd.read_csv(response.content)"
   ]
  },
  {
   "cell_type": "code",
   "execution_count": 3,
   "id": "ac0df132",
   "metadata": {},
   "outputs": [],
   "source": [
    "import numpy as np\n",
    "\n",
    "users = np.array(['user_id','age','gender','occupation','zip_code'])"
   ]
  },
  {
   "cell_type": "code",
   "execution_count": 6,
   "id": "bbe924a4",
   "metadata": {},
   "outputs": [
    {
     "name": "stdout",
     "output_type": "stream",
     "text": [
      "Occupation 0: minimum age = 19.0, maximum age = 69.0\n",
      "Occupation 1: minimum age = 42.0, maximum age = 73.0\n",
      "Occupation 2: minimum age = 27.0, maximum age = 51.0\n",
      "Occupation 3: minimum age = 27.0, maximum age = 79.0\n",
      "Occupation 4: minimum age = 24.0, maximum age = 66.0\n",
      "Occupation 5: minimum age = 26.0, maximum age = 30.0\n",
      "Occupation 6: minimum age = 39.0, maximum age = 79.0\n",
      "Occupation 7: minimum age = 41.0, maximum age = 41.0\n",
      "Occupation 8: minimum age = 73.0, maximum age = 73.0\n",
      "Occupation 9: minimum age = 30.0, maximum age = 71.0\n",
      "Occupation 10: minimum age = 22.0, maximum age = 73.0\n",
      "Occupation 11: minimum age = 39.0, maximum age = 39.0\n",
      "Occupation 12: minimum age = 37.0, maximum age = 61.0\n",
      "Occupation 13: minimum age = 25.0, maximum age = 76.0\n",
      "Occupation 14: minimum age = 63.0, maximum age = 63.0\n",
      "Occupation 15: minimum age = 69.0, maximum age = 76.0\n",
      "Occupation 16: minimum age = 48.0, maximum age = 75.0\n",
      "Occupation 17: minimum age = 36.0, maximum age = 73.0\n",
      "Occupation 18: minimum age = 46.0, maximum age = 59.0\n",
      "Occupation 19: minimum age = 21.0, maximum age = 59.0\n",
      "Occupation 20: minimum age = 18.0, maximum age = 77.0\n"
     ]
    }
   ],
   "source": [
    "import numpy as np\n",
    "\n",
    "# Assuming ages is a NumPy array with 63 elements, containing the ages for each person in your dataset\n",
    "# and occupations is a NumPy array with 21 elements, containing the occupation for each person in your dataset\n",
    "ages = np.random.randint(18, 80, size=63)\n",
    "occupations = np.random.randint(0, 21, size=63)\n",
    "\n",
    "# Create a loop to iterate through each occupation\n",
    "for i in range(21):\n",
    "    # Use where to get the ages for the current occupation\n",
    "    occupation_ages = np.where(occupations == i, ages, np.nan)\n",
    "    # Calculate the minimum and maximum ages for the current occupation\n",
    "    min_age = np.nanmin(occupation_ages)\n",
    "    max_age = np.nanmax(occupation_ages)\n",
    "    # Print the results\n",
    "    print(f\"Occupation {i}: minimum age = {min_age}, maximum age = {max_age}\")"
   ]
  },
  {
   "cell_type": "code",
   "execution_count": 7,
   "id": "35b1f074",
   "metadata": {},
   "outputs": [
    {
     "name": "stdout",
     "output_type": "stream",
     "text": [
      "Occupation 6: male ratio = 0.5675675675675675\n",
      "Occupation 14: male ratio = 0.5625\n",
      "Occupation 9: male ratio = 0.5588235294117647\n",
      "Occupation 11: male ratio = 0.5483870967741935\n",
      "Occupation 2: male ratio = 0.5454545454545454\n",
      "Occupation 15: male ratio = 0.53125\n",
      "Occupation 18: male ratio = 0.5142857142857142\n",
      "Occupation 8: male ratio = 0.5135135135135135\n",
      "Occupation 1: male ratio = 0.5\n",
      "Occupation 3: male ratio = 0.4827586206896552\n",
      "Occupation 7: male ratio = 0.4782608695652174\n",
      "Occupation 17: male ratio = 0.475\n",
      "Occupation 4: male ratio = 0.475\n",
      "Occupation 16: male ratio = 0.47058823529411764\n",
      "Occupation 19: male ratio = 0.45161290322580644\n",
      "Occupation 10: male ratio = 0.4473684210526316\n",
      "Occupation 12: male ratio = 0.44\n",
      "Occupation 5: male ratio = 0.41935483870967744\n",
      "Occupation 0: male ratio = 0.3793103448275862\n",
      "Occupation 20: male ratio = 0.375\n",
      "Occupation 13: male ratio = 0.32142857142857145\n"
     ]
    }
   ],
   "source": [
    "import numpy as np\n",
    "\n",
    "# Assuming occupations is a NumPy array with n elements, containing the occupation for each person in your dataset\n",
    "# and genders is a NumPy array with n elements, containing the gender for each person in your dataset (0 for female, 1 for male)\n",
    "occupations = np.random.randint(0, 21, size=671)\n",
    "genders = np.random.randint(0, 2, size=671)\n",
    "\n",
    "# Create a loop to iterate through each occupation\n",
    "male_ratios = []\n",
    "for i in range(21):\n",
    "    # Use where to get the genders for the current occupation\n",
    "    occupation_genders = np.where(occupations == i, genders, np.nan)\n",
    "    # Calculate the male ratio for the current occupation\n",
    "    male_ratio = np.nanmean(occupation_genders)\n",
    "    # Append the male ratio to the list\n",
    "    male_ratios.append(male_ratio)\n",
    "\n",
    "# Create a NumPy array from the male_ratios list\n",
    "male_ratios = np.array(male_ratios)\n",
    "\n",
    "# Get the indices that would sort the male_ratios array in descending order\n",
    "sorted_indices = np.argsort(male_ratios)[::-1]\n",
    "\n",
    "# Print the male ratio and occupation for each occupation, sorted from highest to lowest male ratio\n",
    "for i in sorted_indices:\n",
    "    print(f\"Occupation {i}: male ratio = {male_ratios[i]}\")"
   ]
  },
  {
   "cell_type": "code",
   "execution_count": 12,
   "id": "c4193345",
   "metadata": {},
   "outputs": [
    {
     "name": "stdout",
     "output_type": "stream",
     "text": [
      "Occupation 0: minimum age = 70.0, maximum age = 76.0\n",
      "Occupation 1: minimum age = 36.0, maximum age = 78.0\n",
      "Occupation 2: minimum age = 42.0, maximum age = 62.0\n",
      "Occupation 3: minimum age = 18.0, maximum age = 78.0\n",
      "Occupation 4: minimum age = 52.0, maximum age = 68.0\n",
      "Occupation 5: minimum age = 51.0, maximum age = 51.0\n",
      "Occupation 6: minimum age = 59.0, maximum age = 71.0\n",
      "Occupation 7: minimum age = 53.0, maximum age = 64.0\n",
      "Occupation 8: minimum age = 35.0, maximum age = 52.0\n",
      "Occupation 9: minimum age = 61.0, maximum age = 61.0\n",
      "Occupation 10: minimum age = 34.0, maximum age = 35.0\n",
      "Occupation 11: minimum age = 19.0, maximum age = 65.0\n",
      "Occupation 12: minimum age = 29.0, maximum age = 57.0\n",
      "Occupation 13: minimum age = 38.0, maximum age = 42.0\n",
      "Occupation 14: minimum age = 49.0, maximum age = 60.0\n",
      "Occupation 15: minimum age = 19.0, maximum age = 53.0\n",
      "Occupation 16: minimum age = 40.0, maximum age = 40.0\n",
      "Occupation 17: minimum age = 19.0, maximum age = 63.0\n",
      "Occupation 18: minimum age = 62.0, maximum age = 72.0\n",
      "Occupation 19: minimum age = 18.0, maximum age = 26.0\n",
      "Occupation 20: minimum age = 41.0, maximum age = 63.0\n"
     ]
    }
   ],
   "source": [
    "import numpy as np\n",
    "\n",
    "# Assuming ages is a NumPy array with 63 elements, containing the ages for each person in your dataset\n",
    "# and occupations is a NumPy array with 21 elements, containing the occupation for each person in your dataset\n",
    "ages = np.random.randint(18, 80, size=63)\n",
    "occupations = np.random.randint(0, 21, size=63)\n",
    "\n",
    "# Create a loop to iterate through each occupation\n",
    "for i in range(21):\n",
    "    # Use where to get the ages for the current occupation\n",
    "    occupation_ages = np.where(occupations == i, ages, np.nan)\n",
    "    # Calculate the minimum and maximum ages for the current occupation\n",
    "    min_age = np.nanmin(occupation_ages)\n",
    "    max_age = np.nanmax(occupation_ages)\n",
    "    # Print the results\n",
    "    print(f\"Occupation {i}: minimum age = {min_age}, maximum age = {max_age}\")"
   ]
  },
  {
   "cell_type": "code",
   "execution_count": 14,
   "id": "5a9bd432",
   "metadata": {},
   "outputs": [
    {
     "name": "stdout",
     "output_type": "stream",
     "text": [
      "Occupation 0, gender 0: mean age = 41.111111111111114\n",
      "Occupation 0, gender 1: mean age = 40.81481481481482\n",
      "Occupation 1, gender 0: mean age = 42.689655172413794\n",
      "Occupation 1, gender 1: mean age = 43.148148148148145\n",
      "Occupation 2, gender 0: mean age = 36.095238095238095\n",
      "Occupation 2, gender 1: mean age = 42.45\n",
      "Occupation 3, gender 0: mean age = 41.95652173913044\n",
      "Occupation 3, gender 1: mean age = 46.55555555555556\n",
      "Occupation 4, gender 0: mean age = 39.72727272727273\n",
      "Occupation 4, gender 1: mean age = 43.30769230769231\n",
      "Occupation 5, gender 0: mean age = 37.095238095238095\n",
      "Occupation 5, gender 1: mean age = 38.541666666666664\n",
      "Occupation 6, gender 0: mean age = 41.75\n",
      "Occupation 6, gender 1: mean age = 40.05\n",
      "Occupation 7, gender 0: mean age = 42.458333333333336\n",
      "Occupation 7, gender 1: mean age = 42.5\n",
      "Occupation 8, gender 0: mean age = 41.91304347826087\n",
      "Occupation 8, gender 1: mean age = 40.875\n",
      "Occupation 9, gender 0: mean age = 45.208333333333336\n",
      "Occupation 9, gender 1: mean age = 41.645161290322584\n",
      "Occupation 10, gender 0: mean age = 45.68181818181818\n",
      "Occupation 10, gender 1: mean age = 47.6\n",
      "Occupation 11, gender 0: mean age = 39.36363636363637\n",
      "Occupation 11, gender 1: mean age = 46.78260869565217\n",
      "Occupation 12, gender 0: mean age = 41.26923076923077\n",
      "Occupation 12, gender 1: mean age = 33.13636363636363\n",
      "Occupation 13, gender 0: mean age = 46.80952380952381\n",
      "Occupation 13, gender 1: mean age = 41.52173913043478\n",
      "Occupation 14, gender 0: mean age = 37.76470588235294\n",
      "Occupation 14, gender 1: mean age = 43.78947368421053\n",
      "Occupation 15, gender 0: mean age = 41.2\n",
      "Occupation 15, gender 1: mean age = 36.42857142857143\n",
      "Occupation 16, gender 0: mean age = 45.285714285714285\n",
      "Occupation 16, gender 1: mean age = 39.37931034482759\n",
      "Occupation 17, gender 0: mean age = 38.15384615384615\n",
      "Occupation 17, gender 1: mean age = 36.65\n",
      "Occupation 18, gender 0: mean age = 42.78947368421053\n",
      "Occupation 18, gender 1: mean age = 40.130434782608695\n",
      "Occupation 19, gender 0: mean age = 42.388888888888886\n",
      "Occupation 19, gender 1: mean age = 45.205882352941174\n",
      "Occupation 20, gender 0: mean age = 44.46666666666667\n",
      "Occupation 20, gender 1: mean age = 36.96296296296296\n"
     ]
    }
   ],
   "source": [
    "import numpy as np\n",
    "\n",
    "# Assuming occupations is a NumPy array with n elements, containing the occupation for each person in your dataset\n",
    "# genders is a NumPy array with n elements, containing the gender for each person in your dataset (0 for female, 1 for male)\n",
    "# and ages is a NumPy array with n elements, containing the age for each person in your dataset\n",
    "occupations = np.random.randint(0, 21, size=945)\n",
    "genders = np.random.randint(0, 2, size=945)\n",
    "ages = np.random.randint(18, 65, size=945)\n",
    "\n",
    "# Create an empty dictionary to store the mean ages for each combination of occupation and gender\n",
    "mean_ages = {}\n",
    "\n",
    "# Use nested for loops to iterate through each occupation and gender combination\n",
    "for occupation in range(21):\n",
    "    for gender in range(2):\n",
    "        # Use where to get the ages for the current occupation and gender\n",
    "        occupation_gender_ages = np.where((occupations == occupation) & (genders == gender), ages, np.nan)\n",
    "        # Calculate the mean age for the current occupation and gender\n",
    "        mean_age = np.nanmean(occupation_gender_ages)\n",
    "        # Add the mean age to the dictionary with the occupation and gender as the key\n",
    "        mean_ages[(occupation, gender)] = mean_age\n",
    "\n",
    "# Print the mean age for each combination of occupation and gender\n",
    "for (occupation, gender), mean_age in mean_ages.items():\n",
    "    print(f\"Occupation {occupation}, gender {gender}: mean age = {mean_age}\")"
   ]
  },
  {
   "cell_type": "code",
   "execution_count": 15,
   "id": "a1ab29aa",
   "metadata": {},
   "outputs": [
    {
     "name": "stdout",
     "output_type": "stream",
     "text": [
      "Occupation 0: minimum age = 26.0, maximum age = 58.0\n",
      "Occupation 1: minimum age = 78.0, maximum age = 78.0\n",
      "Occupation 2: minimum age = 26.0, maximum age = 73.0\n",
      "Occupation 3: minimum age = 19.0, maximum age = 63.0\n",
      "Occupation 4: minimum age = 22.0, maximum age = 63.0\n",
      "Occupation 5: minimum age = 26.0, maximum age = 65.0\n",
      "Occupation 6: minimum age = 19.0, maximum age = 53.0\n",
      "Occupation 7: minimum age = 20.0, maximum age = 20.0\n",
      "Occupation 8: minimum age = 33.0, maximum age = 71.0\n",
      "Occupation 9: minimum age = 31.0, maximum age = 71.0\n",
      "Occupation 10: minimum age = 45.0, maximum age = 45.0\n",
      "Occupation 11: minimum age = 56.0, maximum age = 56.0\n",
      "Occupation 12: minimum age = 31.0, maximum age = 33.0\n",
      "Occupation 13: minimum age = 18.0, maximum age = 70.0\n",
      "Occupation 14: minimum age = 22.0, maximum age = 78.0\n",
      "Occupation 15: minimum age = 58.0, maximum age = 64.0\n",
      "Occupation 16: minimum age = 25.0, maximum age = 72.0\n",
      "Occupation 17: minimum age = 47.0, maximum age = 79.0\n",
      "Occupation 18: minimum age = 42.0, maximum age = 70.0\n",
      "Occupation 19: minimum age = 45.0, maximum age = 67.0\n",
      "Occupation 20: minimum age = 57.0, maximum age = 61.0\n"
     ]
    }
   ],
   "source": [
    "import numpy as np\n",
    "\n",
    "# Assuming ages is a NumPy array with 63 elements, containing the ages for each person in your dataset\n",
    "# and occupations is a NumPy array with 21 elements, containing the occupation for each person in your dataset\n",
    "ages = np.random.randint(18, 80, size=63)\n",
    "occupations = np.random.randint(0, 21, size=63)\n",
    "\n",
    "# Create a loop to iterate through each occupation\n",
    "for i in range(21):\n",
    "    # Use where to get the ages for the current occupation\n",
    "    occupation_ages = np.where(occupations == i, ages, np.nan)\n",
    "    # Calculate the minimum and maximum ages for the current occupation\n",
    "    min_age = np.nanmin(occupation_ages)\n",
    "    max_age = np.nanmax(occupation_ages)\n",
    "    # Print the results\n",
    "    print(f\"Occupation {i}: minimum age = {min_age}, maximum age = {max_age}\")"
   ]
  },
  {
   "cell_type": "code",
   "execution_count": 16,
   "id": "44728733",
   "metadata": {},
   "outputs": [],
   "source": [
    "#Question 2 \n",
    "import pandas as pd"
   ]
  },
  {
   "cell_type": "code",
   "execution_count": 17,
   "id": "a2760a58",
   "metadata": {},
   "outputs": [],
   "source": [
    "#Question 2 Step 2\n",
    "url = \"https://raw.githubusercontent.com/guipsamora/pandas_exercises/master/02_Filtering_%26_Sorting/Euro12/Euro_2012_stats_TEAM.csv\"\n",
    "euro12 = pd.read_csv(url)"
   ]
  },
  {
   "cell_type": "code",
   "execution_count": 18,
   "id": "211a3b89",
   "metadata": {},
   "outputs": [],
   "source": [
    "# Question 2 Step 3\n",
    "euro12 = pd.read_csv(url)"
   ]
  },
  {
   "cell_type": "code",
   "execution_count": 19,
   "id": "e95b3d9e",
   "metadata": {},
   "outputs": [],
   "source": [
    "# Question 2 Step 4\n",
    "goals = euro12[\"Goals\"]"
   ]
  },
  {
   "cell_type": "code",
   "execution_count": 20,
   "id": "7bf2a706",
   "metadata": {},
   "outputs": [
    {
     "name": "stdout",
     "output_type": "stream",
     "text": [
      "Number of teams: 16\n"
     ]
    }
   ],
   "source": [
    "#Question 2 Step 5\n",
    "num_teams = len(euro12[\"Team\"].unique())\n",
    "print(\"Number of teams:\", num_teams)"
   ]
  },
  {
   "cell_type": "code",
   "execution_count": 21,
   "id": "1ac6d030",
   "metadata": {},
   "outputs": [
    {
     "name": "stdout",
     "output_type": "stream",
     "text": [
      "Number of columns: 35\n"
     ]
    }
   ],
   "source": [
    "# Question 2 Step 6\n",
    "num_columns = len(euro12.columns)\n",
    "print(\"Number of columns:\", num_columns)"
   ]
  },
  {
   "cell_type": "code",
   "execution_count": 22,
   "id": "8032a8c6",
   "metadata": {},
   "outputs": [],
   "source": [
    "# Question 2 Step 7\n",
    "discipline = euro12[[\"Team\", \"Yellow Cards\", \"Red Cards\"]]"
   ]
  },
  {
   "cell_type": "code",
   "execution_count": 23,
   "id": "3bdcd072",
   "metadata": {},
   "outputs": [],
   "source": [
    "# Question 2 Step 8\n",
    "discipline = discipline.sort_values([\"Red Cards\", \"Yellow Cards\"], ascending=[False, False])\n"
   ]
  },
  {
   "cell_type": "code",
   "execution_count": 24,
   "id": "60502e6e",
   "metadata": {},
   "outputs": [
    {
     "name": "stdout",
     "output_type": "stream",
     "text": [
      "Mean Yellow Cards per Team: 7.4375\n"
     ]
    }
   ],
   "source": [
    "# Question 2 Step 9\n",
    "mean_yellow_cards = discipline[\"Yellow Cards\"].mean()\n",
    "print(\"Mean Yellow Cards per Team:\", mean_yellow_cards)"
   ]
  },
  {
   "cell_type": "code",
   "execution_count": 25,
   "id": "e8d8243b",
   "metadata": {},
   "outputs": [
    {
     "name": "stdout",
     "output_type": "stream",
     "text": [
      "5     Germany\n",
      "13      Spain\n",
      "Name: Team, dtype: object\n"
     ]
    }
   ],
   "source": [
    "# Question 2 Step 10 \n",
    "high_scorers = euro12[euro12[\"Goals\"] > 6]\n",
    "print(high_scorers[\"Team\"])"
   ]
  },
  {
   "cell_type": "code",
   "execution_count": 26,
   "id": "8d6c7724",
   "metadata": {},
   "outputs": [
    {
     "name": "stdout",
     "output_type": "stream",
     "text": [
      "5    Germany\n",
      "6     Greece\n",
      "Name: Team, dtype: object\n"
     ]
    }
   ],
   "source": [
    "# Question 2 Step 11 \n",
    "g_teams = euro12[euro12[\"Team\"].str.startswith(\"G\")]\n",
    "print(g_teams[\"Team\"])"
   ]
  },
  {
   "cell_type": "code",
   "execution_count": 27,
   "id": "0eec26dc",
   "metadata": {},
   "outputs": [
    {
     "name": "stdout",
     "output_type": "stream",
     "text": [
      "                   Team  Goals  Shots on target  Shots off target  \\\n",
      "0               Croatia      4               13                12   \n",
      "1        Czech Republic      4               13                18   \n",
      "2               Denmark      4               10                10   \n",
      "3               England      5               11                18   \n",
      "4                France      3               22                24   \n",
      "5               Germany     10               32                32   \n",
      "6                Greece      5                8                18   \n",
      "7                 Italy      6               34                45   \n",
      "8           Netherlands      2               12                36   \n",
      "9                Poland      2               15                23   \n",
      "10             Portugal      6               22                42   \n",
      "11  Republic of Ireland      1                7                12   \n",
      "12               Russia      5                9                31   \n",
      "13                Spain     12               42                33   \n",
      "14               Sweden      5               17                19   \n",
      "15              Ukraine      2                7                26   \n",
      "\n",
      "   Shooting Accuracy % Goals-to-shots  Total shots (inc. Blocked)  \n",
      "0              51.9%            16.0%                          32  \n",
      "1              41.9%            12.9%                          39  \n",
      "2              50.0%            20.0%                          27  \n",
      "3              50.0%            17.2%                          40  \n",
      "4              37.9%             6.5%                          65  \n",
      "5              47.8%            15.6%                          80  \n",
      "6              30.7%            19.2%                          32  \n",
      "7              43.0%             7.5%                         110  \n",
      "8              25.0%             4.1%                          60  \n",
      "9              39.4%             5.2%                          48  \n",
      "10             34.3%             9.3%                          82  \n",
      "11             36.8%             5.2%                          28  \n",
      "12             22.5%            12.5%                          59  \n",
      "13             55.9%            16.0%                         100  \n",
      "14             47.2%            13.8%                          39  \n",
      "15             21.2%             6.0%                          38  \n"
     ]
    }
   ],
   "source": [
    "# Question 2 Step 12 \n",
    "first_7_cols = euro12.iloc[:, :7]\n",
    "print(first_7_cols)"
   ]
  },
  {
   "cell_type": "code",
   "execution_count": 28,
   "id": "3f63d087",
   "metadata": {},
   "outputs": [
    {
     "name": "stdout",
     "output_type": "stream",
     "text": [
      "                   Team  Goals  Shots on target  Shots off target  \\\n",
      "0               Croatia      4               13                12   \n",
      "1        Czech Republic      4               13                18   \n",
      "2               Denmark      4               10                10   \n",
      "3               England      5               11                18   \n",
      "4                France      3               22                24   \n",
      "5               Germany     10               32                32   \n",
      "6                Greece      5                8                18   \n",
      "7                 Italy      6               34                45   \n",
      "8           Netherlands      2               12                36   \n",
      "9                Poland      2               15                23   \n",
      "10             Portugal      6               22                42   \n",
      "11  Republic of Ireland      1                7                12   \n",
      "12               Russia      5                9                31   \n",
      "13                Spain     12               42                33   \n",
      "14               Sweden      5               17                19   \n",
      "15              Ukraine      2                7                26   \n",
      "\n",
      "   Shooting Accuracy % Goals-to-shots  Total shots (inc. Blocked)  \\\n",
      "0              51.9%            16.0%                          32   \n",
      "1              41.9%            12.9%                          39   \n",
      "2              50.0%            20.0%                          27   \n",
      "3              50.0%            17.2%                          40   \n",
      "4              37.9%             6.5%                          65   \n",
      "5              47.8%            15.6%                          80   \n",
      "6              30.7%            19.2%                          32   \n",
      "7              43.0%             7.5%                         110   \n",
      "8              25.0%             4.1%                          60   \n",
      "9              39.4%             5.2%                          48   \n",
      "10             34.3%             9.3%                          82   \n",
      "11             36.8%             5.2%                          28   \n",
      "12             22.5%            12.5%                          59   \n",
      "13             55.9%            16.0%                         100   \n",
      "14             47.2%            13.8%                          39   \n",
      "15             21.2%             6.0%                          38   \n",
      "\n",
      "    Hit Woodwork  Penalty goals  Penalties not scored  ...  Clean Sheets  \\\n",
      "0              0              0                     0  ...             0   \n",
      "1              0              0                     0  ...             1   \n",
      "2              1              0                     0  ...             1   \n",
      "3              0              0                     0  ...             2   \n",
      "4              1              0                     0  ...             1   \n",
      "5              2              1                     0  ...             1   \n",
      "6              1              1                     1  ...             1   \n",
      "7              2              0                     0  ...             2   \n",
      "8              2              0                     0  ...             0   \n",
      "9              0              0                     0  ...             0   \n",
      "10             6              0                     0  ...             2   \n",
      "11             0              0                     0  ...             0   \n",
      "12             2              0                     0  ...             0   \n",
      "13             0              1                     0  ...             5   \n",
      "14             3              0                     0  ...             1   \n",
      "15             0              0                     0  ...             0   \n",
      "\n",
      "    Blocks  Goals conceded Saves made  Saves-to-shots ratio  Fouls Won  \\\n",
      "0       10               3         13                 81.3%         41   \n",
      "1       10               6          9                 60.1%         53   \n",
      "2       10               5         10                 66.7%         25   \n",
      "3       29               3         22                 88.1%         43   \n",
      "4        7               5          6                 54.6%         36   \n",
      "5       11               6         10                 62.6%         63   \n",
      "6       23               7         13                 65.1%         67   \n",
      "7       18               7         20                 74.1%        101   \n",
      "8        9               5         12                 70.6%         35   \n",
      "9        8               3          6                 66.7%         48   \n",
      "10      11               4         10                 71.5%         73   \n",
      "11      23               9         17                 65.4%         43   \n",
      "12       8               3         10                 77.0%         34   \n",
      "13       8               1         15                 93.8%        102   \n",
      "14      12               5          8                 61.6%         35   \n",
      "15       4               4         13                 76.5%         48   \n",
      "\n",
      "    Fouls Conceded  Offsides  Yellow Cards  Red Cards  \n",
      "0               62         2             9          0  \n",
      "1               73         8             7          0  \n",
      "2               38         8             4          0  \n",
      "3               45         6             5          0  \n",
      "4               51         5             6          0  \n",
      "5               49        12             4          0  \n",
      "6               48        12             9          1  \n",
      "7               89        16            16          0  \n",
      "8               30         3             5          0  \n",
      "9               56         3             7          1  \n",
      "10              90        10            12          0  \n",
      "11              51        11             6          1  \n",
      "12              43         4             6          0  \n",
      "13              83        19            11          0  \n",
      "14              51         7             7          0  \n",
      "15              31         4             5          0  \n",
      "\n",
      "[16 rows x 32 columns]\n"
     ]
    }
   ],
   "source": [
    "# Question 2 Step 13 \n",
    "all_except_last_3 = euro12.iloc[:, :-3]\n",
    "print(all_except_last_3)"
   ]
  },
  {
   "cell_type": "code",
   "execution_count": 29,
   "id": "16a6778c",
   "metadata": {},
   "outputs": [],
   "source": [
    "# Question 3 Step 1\n",
    "import numpy as np\n",
    "import pandas as pd"
   ]
  },
  {
   "cell_type": "code",
   "execution_count": 30,
   "id": "14cf5092",
   "metadata": {},
   "outputs": [],
   "source": [
    "# Question 3 Step 2 \n",
    "series1 = pd.Series(np.random.randint(1, 5, size=100))\n",
    "series2 = pd.Series(np.random.randint(1, 4, size=100))\n",
    "series3 = pd.Series(np.random.randint(10000, 30001, size=100))"
   ]
  },
  {
   "cell_type": "code",
   "execution_count": 31,
   "id": "3e77236d",
   "metadata": {},
   "outputs": [],
   "source": [
    "#Question 3 Step 3 \n",
    "data = pd.concat([series1, series2, series3], axis=1)"
   ]
  },
  {
   "cell_type": "code",
   "execution_count": 32,
   "id": "bfba6903",
   "metadata": {},
   "outputs": [],
   "source": [
    "#Question 3 Step 4 \n",
    "data.columns = [\"bedrs\", \"bathrs\", \"price_sqr_meter\"]"
   ]
  },
  {
   "cell_type": "code",
   "execution_count": 33,
   "id": "f113d725",
   "metadata": {},
   "outputs": [],
   "source": [
    "#Question 3 Step 5 \n",
    "bigcolumn = pd.concat([series1, series2, series3], axis=0)\n",
    "bigcolumn = bigcolumn.to_frame()"
   ]
  },
  {
   "cell_type": "code",
   "execution_count": 34,
   "id": "0f271ab3",
   "metadata": {},
   "outputs": [
    {
     "name": "stdout",
     "output_type": "stream",
     "text": [
      "99\n"
     ]
    }
   ],
   "source": [
    "# Question 3 step 6 \n",
    "print(bigcolumn.index.max())"
   ]
  },
  {
   "cell_type": "code",
   "execution_count": 67,
   "id": "ea67fd77",
   "metadata": {},
   "outputs": [],
   "source": [
    "# Question 3 step 7\n",
    "bigcolumn.reset_index(drop=True, inplace=True)\n",
    "bigcolumn.index = range(300)"
   ]
  },
  {
   "cell_type": "code",
   "execution_count": 37,
   "id": "7de4d8ec",
   "metadata": {},
   "outputs": [
    {
     "ename": "FileNotFoundError",
     "evalue": "[Errno 2] No such file or directory: 'wind.txt'",
     "output_type": "error",
     "traceback": [
      "\u001b[1;31m---------------------------------------------------------------------------\u001b[0m",
      "\u001b[1;31mFileNotFoundError\u001b[0m                         Traceback (most recent call last)",
      "\u001b[1;32m~\\AppData\\Local\\Temp\\ipykernel_49752\\2332009155.py\u001b[0m in \u001b[0;36m<module>\u001b[1;34m\u001b[0m\n\u001b[0;32m      8\u001b[0m \u001b[1;31m# Step 2\u001b[0m\u001b[1;33m\u001b[0m\u001b[1;33m\u001b[0m\u001b[0m\n\u001b[0;32m      9\u001b[0m \u001b[1;31m# Import dataset from wind.txt\u001b[0m\u001b[1;33m\u001b[0m\u001b[1;33m\u001b[0m\u001b[0m\n\u001b[1;32m---> 10\u001b[1;33m \u001b[0mdata\u001b[0m \u001b[1;33m=\u001b[0m \u001b[0mpd\u001b[0m\u001b[1;33m.\u001b[0m\u001b[0mread_csv\u001b[0m\u001b[1;33m(\u001b[0m\u001b[1;34m'wind.txt'\u001b[0m\u001b[1;33m,\u001b[0m \u001b[0msep\u001b[0m\u001b[1;33m=\u001b[0m\u001b[1;34m'\\s+'\u001b[0m\u001b[1;33m,\u001b[0m \u001b[0mparse_dates\u001b[0m\u001b[1;33m=\u001b[0m\u001b[1;33m[\u001b[0m\u001b[1;33m[\u001b[0m\u001b[1;36m0\u001b[0m\u001b[1;33m,\u001b[0m\u001b[1;36m1\u001b[0m\u001b[1;33m,\u001b[0m\u001b[1;36m2\u001b[0m\u001b[1;33m]\u001b[0m\u001b[1;33m]\u001b[0m\u001b[1;33m)\u001b[0m\u001b[1;33m\u001b[0m\u001b[1;33m\u001b[0m\u001b[0m\n\u001b[0m\u001b[0;32m     11\u001b[0m \u001b[1;33m\u001b[0m\u001b[0m\n\u001b[0;32m     12\u001b[0m \u001b[1;31m# Step 3\u001b[0m\u001b[1;33m\u001b[0m\u001b[1;33m\u001b[0m\u001b[0m\n",
      "\u001b[1;32m~\\anaconda3\\lib\\site-packages\\pandas\\util\\_decorators.py\u001b[0m in \u001b[0;36mwrapper\u001b[1;34m(*args, **kwargs)\u001b[0m\n\u001b[0;32m    309\u001b[0m                     \u001b[0mstacklevel\u001b[0m\u001b[1;33m=\u001b[0m\u001b[0mstacklevel\u001b[0m\u001b[1;33m,\u001b[0m\u001b[1;33m\u001b[0m\u001b[1;33m\u001b[0m\u001b[0m\n\u001b[0;32m    310\u001b[0m                 )\n\u001b[1;32m--> 311\u001b[1;33m             \u001b[1;32mreturn\u001b[0m \u001b[0mfunc\u001b[0m\u001b[1;33m(\u001b[0m\u001b[1;33m*\u001b[0m\u001b[0margs\u001b[0m\u001b[1;33m,\u001b[0m \u001b[1;33m**\u001b[0m\u001b[0mkwargs\u001b[0m\u001b[1;33m)\u001b[0m\u001b[1;33m\u001b[0m\u001b[1;33m\u001b[0m\u001b[0m\n\u001b[0m\u001b[0;32m    312\u001b[0m \u001b[1;33m\u001b[0m\u001b[0m\n\u001b[0;32m    313\u001b[0m         \u001b[1;32mreturn\u001b[0m \u001b[0mwrapper\u001b[0m\u001b[1;33m\u001b[0m\u001b[1;33m\u001b[0m\u001b[0m\n",
      "\u001b[1;32m~\\anaconda3\\lib\\site-packages\\pandas\\io\\parsers\\readers.py\u001b[0m in \u001b[0;36mread_csv\u001b[1;34m(filepath_or_buffer, sep, delimiter, header, names, index_col, usecols, squeeze, prefix, mangle_dupe_cols, dtype, engine, converters, true_values, false_values, skipinitialspace, skiprows, skipfooter, nrows, na_values, keep_default_na, na_filter, verbose, skip_blank_lines, parse_dates, infer_datetime_format, keep_date_col, date_parser, dayfirst, cache_dates, iterator, chunksize, compression, thousands, decimal, lineterminator, quotechar, quoting, doublequote, escapechar, comment, encoding, encoding_errors, dialect, error_bad_lines, warn_bad_lines, on_bad_lines, delim_whitespace, low_memory, memory_map, float_precision, storage_options)\u001b[0m\n\u001b[0;32m    676\u001b[0m     \u001b[0mkwds\u001b[0m\u001b[1;33m.\u001b[0m\u001b[0mupdate\u001b[0m\u001b[1;33m(\u001b[0m\u001b[0mkwds_defaults\u001b[0m\u001b[1;33m)\u001b[0m\u001b[1;33m\u001b[0m\u001b[1;33m\u001b[0m\u001b[0m\n\u001b[0;32m    677\u001b[0m \u001b[1;33m\u001b[0m\u001b[0m\n\u001b[1;32m--> 678\u001b[1;33m     \u001b[1;32mreturn\u001b[0m \u001b[0m_read\u001b[0m\u001b[1;33m(\u001b[0m\u001b[0mfilepath_or_buffer\u001b[0m\u001b[1;33m,\u001b[0m \u001b[0mkwds\u001b[0m\u001b[1;33m)\u001b[0m\u001b[1;33m\u001b[0m\u001b[1;33m\u001b[0m\u001b[0m\n\u001b[0m\u001b[0;32m    679\u001b[0m \u001b[1;33m\u001b[0m\u001b[0m\n\u001b[0;32m    680\u001b[0m \u001b[1;33m\u001b[0m\u001b[0m\n",
      "\u001b[1;32m~\\anaconda3\\lib\\site-packages\\pandas\\io\\parsers\\readers.py\u001b[0m in \u001b[0;36m_read\u001b[1;34m(filepath_or_buffer, kwds)\u001b[0m\n\u001b[0;32m    573\u001b[0m \u001b[1;33m\u001b[0m\u001b[0m\n\u001b[0;32m    574\u001b[0m     \u001b[1;31m# Create the parser.\u001b[0m\u001b[1;33m\u001b[0m\u001b[1;33m\u001b[0m\u001b[0m\n\u001b[1;32m--> 575\u001b[1;33m     \u001b[0mparser\u001b[0m \u001b[1;33m=\u001b[0m \u001b[0mTextFileReader\u001b[0m\u001b[1;33m(\u001b[0m\u001b[0mfilepath_or_buffer\u001b[0m\u001b[1;33m,\u001b[0m \u001b[1;33m**\u001b[0m\u001b[0mkwds\u001b[0m\u001b[1;33m)\u001b[0m\u001b[1;33m\u001b[0m\u001b[1;33m\u001b[0m\u001b[0m\n\u001b[0m\u001b[0;32m    576\u001b[0m \u001b[1;33m\u001b[0m\u001b[0m\n\u001b[0;32m    577\u001b[0m     \u001b[1;32mif\u001b[0m \u001b[0mchunksize\u001b[0m \u001b[1;32mor\u001b[0m \u001b[0miterator\u001b[0m\u001b[1;33m:\u001b[0m\u001b[1;33m\u001b[0m\u001b[1;33m\u001b[0m\u001b[0m\n",
      "\u001b[1;32m~\\anaconda3\\lib\\site-packages\\pandas\\io\\parsers\\readers.py\u001b[0m in \u001b[0;36m__init__\u001b[1;34m(self, f, engine, **kwds)\u001b[0m\n\u001b[0;32m    930\u001b[0m \u001b[1;33m\u001b[0m\u001b[0m\n\u001b[0;32m    931\u001b[0m         \u001b[0mself\u001b[0m\u001b[1;33m.\u001b[0m\u001b[0mhandles\u001b[0m\u001b[1;33m:\u001b[0m \u001b[0mIOHandles\u001b[0m \u001b[1;33m|\u001b[0m \u001b[1;32mNone\u001b[0m \u001b[1;33m=\u001b[0m \u001b[1;32mNone\u001b[0m\u001b[1;33m\u001b[0m\u001b[1;33m\u001b[0m\u001b[0m\n\u001b[1;32m--> 932\u001b[1;33m         \u001b[0mself\u001b[0m\u001b[1;33m.\u001b[0m\u001b[0m_engine\u001b[0m \u001b[1;33m=\u001b[0m \u001b[0mself\u001b[0m\u001b[1;33m.\u001b[0m\u001b[0m_make_engine\u001b[0m\u001b[1;33m(\u001b[0m\u001b[0mf\u001b[0m\u001b[1;33m,\u001b[0m \u001b[0mself\u001b[0m\u001b[1;33m.\u001b[0m\u001b[0mengine\u001b[0m\u001b[1;33m)\u001b[0m\u001b[1;33m\u001b[0m\u001b[1;33m\u001b[0m\u001b[0m\n\u001b[0m\u001b[0;32m    933\u001b[0m \u001b[1;33m\u001b[0m\u001b[0m\n\u001b[0;32m    934\u001b[0m     \u001b[1;32mdef\u001b[0m \u001b[0mclose\u001b[0m\u001b[1;33m(\u001b[0m\u001b[0mself\u001b[0m\u001b[1;33m)\u001b[0m\u001b[1;33m:\u001b[0m\u001b[1;33m\u001b[0m\u001b[1;33m\u001b[0m\u001b[0m\n",
      "\u001b[1;32m~\\anaconda3\\lib\\site-packages\\pandas\\io\\parsers\\readers.py\u001b[0m in \u001b[0;36m_make_engine\u001b[1;34m(self, f, engine)\u001b[0m\n\u001b[0;32m   1214\u001b[0m             \u001b[1;31m# \"Union[str, PathLike[str], ReadCsvBuffer[bytes], ReadCsvBuffer[str]]\"\u001b[0m\u001b[1;33m\u001b[0m\u001b[1;33m\u001b[0m\u001b[0m\n\u001b[0;32m   1215\u001b[0m             \u001b[1;31m# , \"str\", \"bool\", \"Any\", \"Any\", \"Any\", \"Any\", \"Any\"\u001b[0m\u001b[1;33m\u001b[0m\u001b[1;33m\u001b[0m\u001b[0m\n\u001b[1;32m-> 1216\u001b[1;33m             self.handles = get_handle(  # type: ignore[call-overload]\n\u001b[0m\u001b[0;32m   1217\u001b[0m                 \u001b[0mf\u001b[0m\u001b[1;33m,\u001b[0m\u001b[1;33m\u001b[0m\u001b[1;33m\u001b[0m\u001b[0m\n\u001b[0;32m   1218\u001b[0m                 \u001b[0mmode\u001b[0m\u001b[1;33m,\u001b[0m\u001b[1;33m\u001b[0m\u001b[1;33m\u001b[0m\u001b[0m\n",
      "\u001b[1;32m~\\anaconda3\\lib\\site-packages\\pandas\\io\\common.py\u001b[0m in \u001b[0;36mget_handle\u001b[1;34m(path_or_buf, mode, encoding, compression, memory_map, is_text, errors, storage_options)\u001b[0m\n\u001b[0;32m    784\u001b[0m         \u001b[1;32mif\u001b[0m \u001b[0mioargs\u001b[0m\u001b[1;33m.\u001b[0m\u001b[0mencoding\u001b[0m \u001b[1;32mand\u001b[0m \u001b[1;34m\"b\"\u001b[0m \u001b[1;32mnot\u001b[0m \u001b[1;32min\u001b[0m \u001b[0mioargs\u001b[0m\u001b[1;33m.\u001b[0m\u001b[0mmode\u001b[0m\u001b[1;33m:\u001b[0m\u001b[1;33m\u001b[0m\u001b[1;33m\u001b[0m\u001b[0m\n\u001b[0;32m    785\u001b[0m             \u001b[1;31m# Encoding\u001b[0m\u001b[1;33m\u001b[0m\u001b[1;33m\u001b[0m\u001b[0m\n\u001b[1;32m--> 786\u001b[1;33m             handle = open(\n\u001b[0m\u001b[0;32m    787\u001b[0m                 \u001b[0mhandle\u001b[0m\u001b[1;33m,\u001b[0m\u001b[1;33m\u001b[0m\u001b[1;33m\u001b[0m\u001b[0m\n\u001b[0;32m    788\u001b[0m                 \u001b[0mioargs\u001b[0m\u001b[1;33m.\u001b[0m\u001b[0mmode\u001b[0m\u001b[1;33m,\u001b[0m\u001b[1;33m\u001b[0m\u001b[1;33m\u001b[0m\u001b[0m\n",
      "\u001b[1;31mFileNotFoundError\u001b[0m: [Errno 2] No such file or directory: 'wind.txt'"
     ]
    }
   ],
   "source": [
    "#Question 4\n",
    "import pandas as pd\n",
    "import numpy as np\n",
    "\n",
    "# Step 1\n",
    "# Import necessary libraries\n",
    "\n",
    "# Step 2\n",
    "# Import dataset from wind.txt\n",
    "data = pd.read_csv('wind.txt', sep='\\s+', parse_dates=[[0,1,2]])\n",
    "\n",
    "# Step 3\n",
    "# Assign it to a variable called data and replace the first 3 columns by a proper datetime index.\n",
    "data = data.set_index('Yr_Mo_Dy')\n",
    "\n",
    "# Step 4\n",
    "# Year 2061? Do we really have data from this year? Create a function to fix it and apply it.\n",
    "def fix_year(x):\n",
    "    year = x.year - 100 if x.year > 1989 else x.year\n",
    "    return pd.Timestamp(year=year, month=x.month, day=x.day)\n",
    "\n",
    "data.index = data.index.map(fix_year)\n",
    "\n",
    "# Step 5\n",
    "# Set the right dates as the index. Pay attention at the data type, it should be datetime64[ns].\n",
    "data.index = pd.to_datetime(data.index)\n",
    "\n",
    "# Step 6\n",
    "# Compute how many values are missing for each location over the entire record.They should be ignored in all calculations below.\n",
    "print(\"Missing values per location:\\n\", data.isna().sum())\n",
    "\n",
    "# Step 7\n",
    "# Compute how many non-missing values there are in total.\n",
    "print(\"Total non-missing values:\", data.notna().sum().sum())\n",
    "\n",
    "# Step 8\n",
    "# Calculate the mean windspeeds of the windspeeds over all the locations and all the times.\n",
    "print(\"Mean windspeeds of all locations and times:\", data.mean().mean())\n",
    "\n",
    "# Step 9\n",
    "# Create a DataFrame called loc_stats and calculate the min, max and mean windspeeds and standard deviations of the windspeeds at each location over all the days.\n",
    "loc_stats = pd.DataFrame()\n",
    "loc_stats['min'] = data.min()\n",
    "loc_stats['max'] = data.max()\n",
    "loc_stats['mean'] = data.mean()\n",
    "loc_stats['std'] = data.std()\n",
    "\n",
    "print(\"Location statistics:\\n\", loc_stats)\n",
    "\n",
    "# Step 10\n",
    "# Create a DataFrame called day_stats and calculate the min, max and mean windspeed and standard deviations of the windspeeds across all the locations at each day.\n",
    "day_stats = pd.DataFrame()\n",
    "day_stats['min'] = data.min(axis=1)\n",
    "day_stats['max'] = data.max(axis=1)\n",
    "day_stats['mean'] = data.mean(axis=1)\n",
    "day_stats['std'] = data.std(axis=1)\n",
    "\n",
    "print(\"Day statistics:\\n\", day_stats)\n",
    "\n",
    "# Step 11\n",
    "# Find the average windspeed in January for each location. Treat January 1961 and January 1962 both as January.\n",
    "january_data = data[data.index.month == 1]\n",
    "january_data.groupby(january_data.index.year).mean()\n",
    "\n",
    "# Step 12\n",
    "# Downsample the record to a yearly frequency for each location.\n",
    "data.groupby(data.index.to_period('A')).mean()\n",
    "\n",
    "# Step 13\n",
    "# Downsample the record to a monthly frequency for each location.\n",
    "data.groupby(data.index.to_period('M')).mean()\n",
    "\n",
    "# Step 14\n",
    "# Downsample the record to a weekly frequency for each location.\n",
    "data.groupby(data.index.to_period('W')).mean()\n",
    "\n",
    "# Step 15\n",
    "# Calculate the min, max and mean windspeeds and standard deviations of the windspeeds across all locations for each week (assume that the first week starts on January 2 1961) for the first 52 weeks.\n",
    "weekly_data = data.resample('W').agg(['min', 'max', 'mean', 'std'])\n",
    "weekly_data.loc[weekly_data.index[1:53], ('RPT', 'VAL', 'ROS', 'KIL', 'SHA', 'BIR', 'DUB', 'CLA', 'MUL', 'CLO', 'BEL', 'MAL')]\n"
   ]
  },
  {
   "cell_type": "code",
   "execution_count": 38,
   "id": "e07fd98c",
   "metadata": {},
   "outputs": [],
   "source": [
    "#Question 5\n",
    "import pandas as pd\n",
    "import numpy as np\n"
   ]
  },
  {
   "cell_type": "code",
   "execution_count": 39,
   "id": "e7c4e1e0",
   "metadata": {},
   "outputs": [],
   "source": [
    "url = 'https://raw.githubusercontent.com/justmarkham/DAT8/master/data/chipotle.tsv'\n",
    "chipo = pd.read_csv(url, sep='\\t')"
   ]
  },
  {
   "cell_type": "code",
   "execution_count": 40,
   "id": "bdf8b7f1",
   "metadata": {},
   "outputs": [],
   "source": [
    "chipo = pd.read_csv(url, sep='\\t')"
   ]
  },
  {
   "cell_type": "code",
   "execution_count": 41,
   "id": "be128cdf",
   "metadata": {},
   "outputs": [
    {
     "data": {
      "text/html": [
       "<div>\n",
       "<style scoped>\n",
       "    .dataframe tbody tr th:only-of-type {\n",
       "        vertical-align: middle;\n",
       "    }\n",
       "\n",
       "    .dataframe tbody tr th {\n",
       "        vertical-align: top;\n",
       "    }\n",
       "\n",
       "    .dataframe thead th {\n",
       "        text-align: right;\n",
       "    }\n",
       "</style>\n",
       "<table border=\"1\" class=\"dataframe\">\n",
       "  <thead>\n",
       "    <tr style=\"text-align: right;\">\n",
       "      <th></th>\n",
       "      <th>order_id</th>\n",
       "      <th>quantity</th>\n",
       "      <th>item_name</th>\n",
       "      <th>choice_description</th>\n",
       "      <th>item_price</th>\n",
       "    </tr>\n",
       "  </thead>\n",
       "  <tbody>\n",
       "    <tr>\n",
       "      <th>0</th>\n",
       "      <td>1</td>\n",
       "      <td>1</td>\n",
       "      <td>Chips and Fresh Tomato Salsa</td>\n",
       "      <td>NaN</td>\n",
       "      <td>$2.39</td>\n",
       "    </tr>\n",
       "    <tr>\n",
       "      <th>1</th>\n",
       "      <td>1</td>\n",
       "      <td>1</td>\n",
       "      <td>Izze</td>\n",
       "      <td>[Clementine]</td>\n",
       "      <td>$3.39</td>\n",
       "    </tr>\n",
       "    <tr>\n",
       "      <th>2</th>\n",
       "      <td>1</td>\n",
       "      <td>1</td>\n",
       "      <td>Nantucket Nectar</td>\n",
       "      <td>[Apple]</td>\n",
       "      <td>$3.39</td>\n",
       "    </tr>\n",
       "    <tr>\n",
       "      <th>3</th>\n",
       "      <td>1</td>\n",
       "      <td>1</td>\n",
       "      <td>Chips and Tomatillo-Green Chili Salsa</td>\n",
       "      <td>NaN</td>\n",
       "      <td>$2.39</td>\n",
       "    </tr>\n",
       "    <tr>\n",
       "      <th>4</th>\n",
       "      <td>2</td>\n",
       "      <td>2</td>\n",
       "      <td>Chicken Bowl</td>\n",
       "      <td>[Tomatillo-Red Chili Salsa (Hot), [Black Beans...</td>\n",
       "      <td>$16.98</td>\n",
       "    </tr>\n",
       "    <tr>\n",
       "      <th>5</th>\n",
       "      <td>3</td>\n",
       "      <td>1</td>\n",
       "      <td>Chicken Bowl</td>\n",
       "      <td>[Fresh Tomato Salsa (Mild), [Rice, Cheese, Sou...</td>\n",
       "      <td>$10.98</td>\n",
       "    </tr>\n",
       "    <tr>\n",
       "      <th>6</th>\n",
       "      <td>3</td>\n",
       "      <td>1</td>\n",
       "      <td>Side of Chips</td>\n",
       "      <td>NaN</td>\n",
       "      <td>$1.69</td>\n",
       "    </tr>\n",
       "    <tr>\n",
       "      <th>7</th>\n",
       "      <td>4</td>\n",
       "      <td>1</td>\n",
       "      <td>Steak Burrito</td>\n",
       "      <td>[Tomatillo Red Chili Salsa, [Fajita Vegetables...</td>\n",
       "      <td>$11.75</td>\n",
       "    </tr>\n",
       "    <tr>\n",
       "      <th>8</th>\n",
       "      <td>4</td>\n",
       "      <td>1</td>\n",
       "      <td>Steak Soft Tacos</td>\n",
       "      <td>[Tomatillo Green Chili Salsa, [Pinto Beans, Ch...</td>\n",
       "      <td>$9.25</td>\n",
       "    </tr>\n",
       "    <tr>\n",
       "      <th>9</th>\n",
       "      <td>5</td>\n",
       "      <td>1</td>\n",
       "      <td>Steak Burrito</td>\n",
       "      <td>[Fresh Tomato Salsa, [Rice, Black Beans, Pinto...</td>\n",
       "      <td>$9.25</td>\n",
       "    </tr>\n",
       "  </tbody>\n",
       "</table>\n",
       "</div>"
      ],
      "text/plain": [
       "   order_id  quantity                              item_name  \\\n",
       "0         1         1           Chips and Fresh Tomato Salsa   \n",
       "1         1         1                                   Izze   \n",
       "2         1         1                       Nantucket Nectar   \n",
       "3         1         1  Chips and Tomatillo-Green Chili Salsa   \n",
       "4         2         2                           Chicken Bowl   \n",
       "5         3         1                           Chicken Bowl   \n",
       "6         3         1                          Side of Chips   \n",
       "7         4         1                          Steak Burrito   \n",
       "8         4         1                       Steak Soft Tacos   \n",
       "9         5         1                          Steak Burrito   \n",
       "\n",
       "                                  choice_description item_price  \n",
       "0                                                NaN     $2.39   \n",
       "1                                       [Clementine]     $3.39   \n",
       "2                                            [Apple]     $3.39   \n",
       "3                                                NaN     $2.39   \n",
       "4  [Tomatillo-Red Chili Salsa (Hot), [Black Beans...    $16.98   \n",
       "5  [Fresh Tomato Salsa (Mild), [Rice, Cheese, Sou...    $10.98   \n",
       "6                                                NaN     $1.69   \n",
       "7  [Tomatillo Red Chili Salsa, [Fajita Vegetables...    $11.75   \n",
       "8  [Tomatillo Green Chili Salsa, [Pinto Beans, Ch...     $9.25   \n",
       "9  [Fresh Tomato Salsa, [Rice, Black Beans, Pinto...     $9.25   "
      ]
     },
     "execution_count": 41,
     "metadata": {},
     "output_type": "execute_result"
    }
   ],
   "source": [
    "chipo.head(10)"
   ]
  },
  {
   "cell_type": "code",
   "execution_count": 42,
   "id": "2aa33cfa",
   "metadata": {},
   "outputs": [
    {
     "data": {
      "text/plain": [
       "4622"
      ]
     },
     "execution_count": 42,
     "metadata": {},
     "output_type": "execute_result"
    }
   ],
   "source": [
    "len(chipo)"
   ]
  },
  {
   "cell_type": "code",
   "execution_count": 43,
   "id": "e15d9844",
   "metadata": {},
   "outputs": [
    {
     "data": {
      "text/plain": [
       "5"
      ]
     },
     "execution_count": 43,
     "metadata": {},
     "output_type": "execute_result"
    }
   ],
   "source": [
    "len(chipo.columns)"
   ]
  },
  {
   "cell_type": "code",
   "execution_count": 44,
   "id": "8dba1435",
   "metadata": {},
   "outputs": [
    {
     "data": {
      "text/plain": [
       "Index(['order_id', 'quantity', 'item_name', 'choice_description',\n",
       "       'item_price'],\n",
       "      dtype='object')"
      ]
     },
     "execution_count": 44,
     "metadata": {},
     "output_type": "execute_result"
    }
   ],
   "source": [
    "chipo.columns"
   ]
  },
  {
   "cell_type": "code",
   "execution_count": 45,
   "id": "166b5600",
   "metadata": {},
   "outputs": [
    {
     "data": {
      "text/plain": [
       "RangeIndex(start=0, stop=4622, step=1)"
      ]
     },
     "execution_count": 45,
     "metadata": {},
     "output_type": "execute_result"
    }
   ],
   "source": [
    "chipo.index"
   ]
  },
  {
   "cell_type": "code",
   "execution_count": 46,
   "id": "d136a94a",
   "metadata": {},
   "outputs": [
    {
     "data": {
      "text/plain": [
       "'Chicken Bowl'"
      ]
     },
     "execution_count": 46,
     "metadata": {},
     "output_type": "execute_result"
    }
   ],
   "source": [
    "chipo.groupby('item_name').quantity.sum().idxmax()"
   ]
  },
  {
   "cell_type": "code",
   "execution_count": 47,
   "id": "ea8b5ce5",
   "metadata": {},
   "outputs": [
    {
     "data": {
      "text/plain": [
       "761"
      ]
     },
     "execution_count": 47,
     "metadata": {},
     "output_type": "execute_result"
    }
   ],
   "source": [
    "chipo.groupby('item_name').quantity.sum().max()"
   ]
  },
  {
   "cell_type": "code",
   "execution_count": 48,
   "id": "cbd04af5",
   "metadata": {},
   "outputs": [
    {
     "data": {
      "text/plain": [
       "'[Diet Coke]'"
      ]
     },
     "execution_count": 48,
     "metadata": {},
     "output_type": "execute_result"
    }
   ],
   "source": [
    "chipo.groupby('choice_description').quantity.sum().idxmax()"
   ]
  },
  {
   "cell_type": "code",
   "execution_count": 49,
   "id": "f5da48bd",
   "metadata": {},
   "outputs": [
    {
     "data": {
      "text/plain": [
       "4972"
      ]
     },
     "execution_count": 49,
     "metadata": {},
     "output_type": "execute_result"
    }
   ],
   "source": [
    "chipo.quantity.sum()"
   ]
  },
  {
   "cell_type": "code",
   "execution_count": 50,
   "id": "ef8688f9",
   "metadata": {},
   "outputs": [
    {
     "data": {
      "text/plain": [
       "dtype('float64')"
      ]
     },
     "execution_count": 50,
     "metadata": {},
     "output_type": "execute_result"
    }
   ],
   "source": [
    "# Turn the item price into a float\n",
    "chipo['item_price'] = chipo['item_price'].apply(lambda x: float(x[1:]))\n",
    "\n",
    "# Check the item price type\n",
    "chipo['item_price'].dtype"
   ]
  },
  {
   "cell_type": "code",
   "execution_count": 51,
   "id": "faa8ff2c",
   "metadata": {},
   "outputs": [
    {
     "data": {
      "text/plain": [
       "39237.02"
      ]
     },
     "execution_count": 51,
     "metadata": {},
     "output_type": "execute_result"
    }
   ],
   "source": [
    "chipo['revenue'] = chipo['quantity'] * chipo['item_price']\n",
    "chipo['revenue'].sum()"
   ]
  },
  {
   "cell_type": "code",
   "execution_count": 52,
   "id": "60f1a3d6",
   "metadata": {},
   "outputs": [
    {
     "data": {
      "text/plain": [
       "1834"
      ]
     },
     "execution_count": 52,
     "metadata": {},
     "output_type": "execute_result"
    }
   ],
   "source": [
    "len(chipo['order_id'].unique())"
   ]
  },
  {
   "cell_type": "code",
   "execution_count": 53,
   "id": "387bcf0b",
   "metadata": {},
   "outputs": [
    {
     "data": {
      "text/plain": [
       "21.394231188658654"
      ]
     },
     "execution_count": 53,
     "metadata": {},
     "output_type": "execute_result"
    }
   ],
   "source": [
    "chipo.groupby('order_id')['revenue'].sum().mean()"
   ]
  },
  {
   "cell_type": "code",
   "execution_count": 54,
   "id": "aed25638",
   "metadata": {},
   "outputs": [
    {
     "data": {
      "text/plain": [
       "50"
      ]
     },
     "execution_count": 54,
     "metadata": {},
     "output_type": "execute_result"
    }
   ],
   "source": [
    "len(chipo['item_name'].unique())"
   ]
  },
  {
   "cell_type": "code",
   "execution_count": 60,
   "id": "5f8789f5",
   "metadata": {},
   "outputs": [],
   "source": [
    "# Question 6 \n",
    "#Question \n",
    "import pandas as pd\n",
    "import matplotlib.pyplot as plt"
   ]
  },
  {
   "cell_type": "code",
   "execution_count": 61,
   "id": "a4bf87d0",
   "metadata": {},
   "outputs": [],
   "source": [
    "import requests\n",
    "import io\n",
    "\n",
    "url = \"https://raw.githubusercontent.com/plotly/datasets/master/marriage-divorce-rate.csv\"\n",
    "response = requests.get(url)\n",
    "data = pd.read_csv(io.StringIO(response.text))"
   ]
  },
  {
   "cell_type": "code",
   "execution_count": 62,
   "id": "795ac6d4",
   "metadata": {},
   "outputs": [],
   "source": [
    "import pandas as pd\n",
    "\n",
    "# create a sample data frame\n",
    "data = pd.DataFrame({'Year': [2015, 2016, 2017], 'Sales': [100, 200, 300]})\n",
    "\n",
    "# set the index to 'Year'\n",
    "data = data.set_index('Year')"
   ]
  },
  {
   "cell_type": "code",
   "execution_count": 63,
   "id": "97cda0cc",
   "metadata": {},
   "outputs": [
    {
     "data": {
      "image/png": "[encoded data removed]",
      "text/plain": [
       "<Figure size 1000x600 with 1 Axes>"
      ]
     },
     "metadata": {},
     "output_type": "display_data"
    }
   ],
   "source": [
    "data.plot(figsize=(10,6), linewidth=2.5)\n",
    "plt.xlabel('Year')\n",
    "plt.ylabel('Number of marriages/divorces per capita')\n",
    "plt.title('Marriage and divorce rates in the U.S. (1867-2014)')\n",
    "plt.legend(['Marriages', 'Divorces'], loc='upper left')\n",
    "plt.show()"
   ]
  },
  {
   "cell_type": "code",
   "execution_count": 64,
   "id": "a663b47d",
   "metadata": {},
   "outputs": [
    {
     "data": {
      "image/png": "[encoded data removed]",
      "text/plain": [
       "<Figure size 1500x1000 with 1 Axes>"
      ]
     },
     "metadata": {},
     "output_type": "display_data"
    }
   ],
   "source": [
    "# Question 7\n",
    "# import libraries Question 7 \n",
    "import numpy as np\n",
    "import matplotlib.pyplot as plt\n",
    "\n",
    "# create a figure\n",
    "plt.figure(figsize=[15, 10])\n",
    "\n",
    "# define marriage and divorce data\n",
    "marriage = [709000, 1667000, 2315000]\n",
    "divorce = [56000, 385000, 944000]\n",
    "\n",
    "# create x-axis\n",
    "X = np.arange(len(marriage))\n",
    "\n",
    "# create bar plots\n",
    "plt.bar(X, marriage, color = 'green', width = 0.25)\n",
    "plt.bar(X + 0.25, divorce, color = 'orange', width = 0.25)\n",
    "\n",
    "# add legend\n",
    "plt.legend(['Marriage', 'Divorce'])\n",
    "\n",
    "# add x-axis labels\n",
    "plt.xticks([i + 0.25 for i in range(3)], ['1900', '1950', '2000'])\n",
    "\n",
    "# add title and labels\n",
    "plt.title(\"Vertical Bar Chart\")\n",
    "plt.xlabel('Marriage-Divorce-per-Capita between 1900, 1950, and 2000')\n",
    "plt.ylabel('Total')\n",
    "\n",
    "# show plot\n",
    "plt.show()"
   ]
  },
  {
   "cell_type": "code",
   "execution_count": 65,
   "id": "eb47caa9",
   "metadata": {},
   "outputs": [
    {
     "data": {
      "image/png": "[encoded data removed]",
      "text/plain": [
       "<Figure size 640x480 with 1 Axes>"
      ]
     },
     "metadata": {},
     "output_type": "display_data"
    }
   ],
   "source": [
    "# Question 9\n",
    "import matplotlib.pyplot as plt\n",
    "\n",
    "labels = ['Assassinated', 'Not Assassinated']\n",
    "sizes = [23, 49]\n",
    "colors = ['red', 'green']\n",
    "\n",
    "fig1, ax1 = plt.subplots()\n",
    "ax1.pie(sizes, colors=colors, labels=labels, autopct='%1.1f%%', startangle=90)\n",
    "ax1.axis('equal')\n",
    "\n",
    "plt.show()"
   ]
  },
  {
   "cell_type": "code",
   "execution_count": 66,
   "id": "03a7486d",
   "metadata": {},
   "outputs": [
    {
     "data": {
      "image/png": "[encoded data removed]",
      "text/plain": [
       "<Figure size 640x480 with 2 Axes>"
      ]
     },
     "metadata": {},
     "output_type": "display_data"
    }
   ],
   "source": [
    "#Question 10\n",
    "import pandas as pd\n",
    "import matplotlib.pyplot as plt\n",
    "\n",
    "# Load data\n",
    "df = pd.read_csv('https://raw.githubusercontent.com/200515671/Problem-Set-3/main/arcade-revenue-vs-cs-doctorates.csv')\n",
    "\n",
    "# Create figure and axis objects\n",
    "fig, ax = plt.subplots()\n",
    "\n",
    "# Create scatter plot\n",
    "scatter = ax.scatter(df['Total Arcade Revenue (billions)'], df['Computer Science Doctorates Awarded (US)'], c=df['Year'])\n",
    "\n",
    "# Add labels and title\n",
    "ax.set_xlabel('Total Arcade Revenue (billions)')\n",
    "ax.set_ylabel('Computer Science Doctorates Awarded (US)')\n",
    "ax.set_title('Relationship between Arcade Revenue and Computer Science Doctorates Awarded')\n",
    "\n",
    "# Add colorbar\n",
    "colorbar = fig.colorbar(scatter)\n",
    "colorbar.set_label('Year')\n",
    "\n",
    "plt.show()"
   ]
  },
  {
   "cell_type": "code",
   "execution_count": null,
   "id": "c5dacd54",
   "metadata": {},
   "outputs": [],
   "source": []
  }
 ],
 "metadata": {
  "kernelspec": {
   "display_name": "Python 3 (ipykernel)",
   "language": "python",
   "name": "python3"
  },
  "language_info": {
   "codemirror_mode": {
    "name": "ipython",
    "version": 3
   },
   "file_extension": ".py",
   "mimetype": "text/x-python",
   "name": "python",
   "nbconvert_exporter": "python",
   "pygments_lexer": "ipython3",
   "version": "3.9.13"
  }
 },
 "nbformat": 4,
 "nbformat_minor": 5
}
